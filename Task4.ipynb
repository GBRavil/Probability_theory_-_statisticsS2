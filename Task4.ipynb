{
 "cells": [
  {
   "cell_type": "code",
   "execution_count": null,
   "id": "ea5de7cf",
   "metadata": {},
   "outputs": [],
   "source": [
    "# 4. В первом ящике находится 10 мячей, из которых 7 - белые. Во втором ящике - 11 мячей, из которых 9 белых. \n",
    "# Из каждого ящика вытаскивают случайным образом по два мяча.  "
   ]
  },
  {
   "cell_type": "code",
   "execution_count": 1,
   "id": "aaca136b",
   "metadata": {},
   "outputs": [],
   "source": [
    "from math import factorial, exp\n",
    "def combinations(n, k):\n",
    "    return int(factorial(n) / (factorial(k) * factorial(n - k)))"
   ]
  },
  {
   "cell_type": "code",
   "execution_count": null,
   "id": "e815c3fe",
   "metadata": {},
   "outputs": [],
   "source": [
    "# a. Какова вероятность того, что все мячи белые?"
   ]
  },
  {
   "cell_type": "code",
   "execution_count": 2,
   "id": "6153d281",
   "metadata": {},
   "outputs": [
    {
     "name": "stdout",
     "output_type": "stream",
     "text": [
      "Общее число элементарных исходов для первой корзины: n1 = 45\n",
      "Общее число элементарных исходов для второй корзины: n2 = 55\n"
     ]
    }
   ],
   "source": [
    "n1 = combinations(10,2)\n",
    "n2 = combinations(11,2)\n",
    "print(f'Общее число элементарных исходов для первой корзины: n1 = {n1}\\n'\n",
    "f'Общее число элементарных исходов для второй корзины: n2 = {n2}')"
   ]
  },
  {
   "cell_type": "code",
   "execution_count": 3,
   "id": "475970a1",
   "metadata": {},
   "outputs": [
    {
     "name": "stdout",
     "output_type": "stream",
     "text": [
      "Число благоприятных элементарных исходов для события А: m1 = 21\n",
      "Число благоприятных элементарных исходов для события В: m2 = 36\n"
     ]
    }
   ],
   "source": [
    "m1=combinations(7,2)\n",
    "m2=combinations(9,2)\n",
    "print(f'Число благоприятных элементарных исходов для события А: m1 = {combinations(7,2)}\\n'\n",
    "      f'Число благоприятных элементарных исходов для события В: m2 = {combinations(9,2)}'\n",
    "     )"
   ]
  },
  {
   "cell_type": "code",
   "execution_count": 4,
   "id": "3615c583",
   "metadata": {},
   "outputs": [
    {
     "name": "stdout",
     "output_type": "stream",
     "text": [
      "Вероятность наступления события А, Р(А) =  0.4667\n",
      "Вероятность наступления события В, Р(В) =  0.6545\n",
      "Вероятность одновременного наступления событий А и В, Р(А+В) =  0.3055\n"
     ]
    }
   ],
   "source": [
    "print(f'Вероятность наступления события А, Р(А) = {m1/n1: .4f}\\n'\n",
    "      f'Вероятность наступления события В, Р(В) = {m2/n2: .4f}\\n'\n",
    "      f'Вероятность одновременного наступления событий А и В, Р(А+В) = {(m1/n1)*(m2/n2): .4f}'\n",
    "     )"
   ]
  },
  {
   "cell_type": "code",
   "execution_count": 5,
   "id": "7a06109e",
   "metadata": {},
   "outputs": [
    {
     "name": "stdout",
     "output_type": "stream",
     "text": [
      "Вероятность одновременного наступления событий А и В, Р(А+В) =  0.3055\n"
     ]
    }
   ],
   "source": [
    "P=(7/10)*(6/9)*(9/11)*(8/10)\n",
    "print(f'Вероятность одновременного наступления событий А и В, Р(А+В) = {P: .4f}')"
   ]
  },
  {
   "cell_type": "code",
   "execution_count": null,
   "id": "91b1691d",
   "metadata": {},
   "outputs": [],
   "source": [
    "# б. Какова вероятность того, что ровно два мяча белые? "
   ]
  },
  {
   "cell_type": "code",
   "execution_count": 6,
   "id": "a02a2c5b",
   "metadata": {},
   "outputs": [
    {
     "name": "stdout",
     "output_type": "stream",
     "text": [
      "Число благоприятных элементарных исходов для события А: m_A = 21\n",
      "Число благоприятных элементарных исходов для события B: m_B = 1\n",
      "Число благоприятных элементарных исходов для события C: m_C = 21\n",
      "Число благоприятных элементарных исходов для события D: m_D = 18\n",
      "Число благоприятных элементарных исходов для события E: m_E = 3\n",
      "Число благоприятных элементарных исходов для события F: m_F = 36\n"
     ]
    }
   ],
   "source": [
    "m_A=combinations(7,2)\n",
    "m_B=combinations(2,2)\n",
    "m_C=combinations(7,1)*combinations(3,1)\n",
    "m_D=combinations(9,1)*combinations(2,1)\n",
    "m_E=combinations(3,2)\n",
    "m_F=combinations(9,2)\n",
    "print(f'Число благоприятных элементарных исходов для события А: m_A = {m_A}\\n'\n",
    "      f'Число благоприятных элементарных исходов для события B: m_B = {m_B}\\n'\n",
    "      f'Число благоприятных элементарных исходов для события C: m_C = {m_C}\\n'\n",
    "      f'Число благоприятных элементарных исходов для события D: m_D = {m_D}\\n'\n",
    "      f'Число благоприятных элементарных исходов для события E: m_E = {m_E}\\n'\n",
    "      f'Число благоприятных элементарных исходов для события F: m_F = {m_F}'  \n",
    "     )"
   ]
  },
  {
   "cell_type": "code",
   "execution_count": 7,
   "id": "236e6b93",
   "metadata": {},
   "outputs": [
    {
     "name": "stdout",
     "output_type": "stream",
     "text": [
      "Вероятность того, что будут вытащены ровно 2 белых мяча Р =  0.2048\n"
     ]
    }
   ],
   "source": [
    "P=(m_A/n1)*(m_B/n2)+(m_C/n1)*(m_D/n2)+(m_E/n1)*(m_F/n2)\n",
    "print(f'Вероятность того, что будут вытащены ровно 2 белых мяча Р = {P: .4f}')"
   ]
  },
  {
   "cell_type": "code",
   "execution_count": 8,
   "id": "0427e4d1",
   "metadata": {},
   "outputs": [
    {
     "name": "stdout",
     "output_type": "stream",
     "text": [
      "Вероятность того, что будут вытащены ровно 2 белых мяча Р =  0.2048\n"
     ]
    }
   ],
   "source": [
    "P1=((7/10)*(6/9)*(2/11)*(1/10))+4*((7/10)*(3/9)*(9/11)*(2/10))+((3/10)*(2/9)*(9/11)*(8/10))\n",
    "print(f'Вероятность того, что будут вытащены ровно 2 белых мяча Р = {P1: .4f}')"
   ]
  },
  {
   "cell_type": "code",
   "execution_count": null,
   "id": "5d9d879e",
   "metadata": {},
   "outputs": [],
   "source": [
    "# Какова вероятность того, что хотя бы один мяч белый?"
   ]
  },
  {
   "cell_type": "code",
   "execution_count": 9,
   "id": "833c9c8c",
   "metadata": {},
   "outputs": [
    {
     "name": "stdout",
     "output_type": "stream",
     "text": [
      "Число благоприятных элементарных исходов для первой корзины: m1 = 3\n",
      "Число благоприятных элементарных исходов для второй корзины: m2 = 1\n"
     ]
    }
   ],
   "source": [
    "m1=combinations(3,2)\n",
    "m2=combinations(2,2)\n",
    "print(f'Число благоприятных элементарных исходов для первой корзины: m1 = {combinations(3,2)}\\n'\n",
    "      f'Число благоприятных элементарных исходов для второй корзины: m2 = {combinations(2,2)}'\n",
    "     )"
   ]
  },
  {
   "cell_type": "code",
   "execution_count": 10,
   "id": "089196d1",
   "metadata": {},
   "outputs": [
    {
     "name": "stdout",
     "output_type": "stream",
     "text": [
      "Вероятность того, что не будет извлечено ни одного белого мяча Р(А_обр) =  0.0012\n",
      "Вероятность того, что будет извлечен хотя бы один белый мяч Р(А) = 1 - Р(А_обр) =  0.9988\n"
     ]
    }
   ],
   "source": [
    "print(f'Вероятность того, что не будет извлечено ни одного белого мяча Р(А_обр) = {(m1/n1)*(m2/n2): .4f}\\n'\n",
    "      f'Вероятность того, что будет извлечен хотя бы один белый мяч Р(А) = 1 - Р(А_обр) = {1-(m1/n1)*(m2/n2): .4f}'\n",
    "     )"
   ]
  },
  {
   "cell_type": "code",
   "execution_count": 11,
   "id": "98138d93",
   "metadata": {},
   "outputs": [
    {
     "name": "stdout",
     "output_type": "stream",
     "text": [
      "Вероятность того, что будет извлечен хотя бы один белый мяч Р(А) =  0.9988\n"
     ]
    }
   ],
   "source": [
    "P=1-(3/10)*(2/9)*(2/11)*(1/10)\n",
    "print(f'Вероятность того, что будет извлечен хотя бы один белый мяч Р(А) = {P: .4f}')"
   ]
  }
 ],
 "metadata": {
  "kernelspec": {
   "display_name": "Python 3 (ipykernel)",
   "language": "python",
   "name": "python3"
  },
  "language_info": {
   "codemirror_mode": {
    "name": "ipython",
    "version": 3
   },
   "file_extension": ".py",
   "mimetype": "text/x-python",
   "name": "python",
   "nbconvert_exporter": "python",
   "pygments_lexer": "ipython3",
   "version": "3.9.13"
  }
 },
 "nbformat": 4,
 "nbformat_minor": 5
}
