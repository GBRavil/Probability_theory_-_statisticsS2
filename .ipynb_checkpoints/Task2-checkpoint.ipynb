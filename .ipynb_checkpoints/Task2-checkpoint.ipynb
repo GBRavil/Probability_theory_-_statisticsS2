{
 "cells": [
  {
   "cell_type": "code",
   "execution_count": null,
   "id": "b432c2fc",
   "metadata": {},
   "outputs": [],
   "source": [
    "# 2. Вероятность того, что лампочка перегорит в течение первого дня эксплуатации, равна 0.0004. \n",
    "# В жилом комплексе после ремонта в один день включили 5000 новых лампочек. "
   ]
  },
  {
   "cell_type": "code",
   "execution_count": 7,
   "id": "4897b982",
   "metadata": {},
   "outputs": [],
   "source": [
    "from math import factorial, exp\n",
    "def poisson_distr(m,p,n):\n",
    "    lamb=p*n\n",
    "    return exp(-lamb)*(lamb**m)/factorial(m)"
   ]
  },
  {
   "cell_type": "code",
   "execution_count": null,
   "id": "624a9078",
   "metadata": {},
   "outputs": [],
   "source": [
    "# а.Какова вероятность, что ни одна из этих 5000 лампочек не перегорит в первый день?"
   ]
  },
  {
   "cell_type": "code",
   "execution_count": 8,
   "id": "0e35116c",
   "metadata": {},
   "outputs": [
    {
     "name": "stdout",
     "output_type": "stream",
     "text": [
      "P =  0.1353\n"
     ]
    }
   ],
   "source": [
    "print(f'P = {poisson_distr(0,0.0004,5000): .4f}')"
   ]
  },
  {
   "cell_type": "code",
   "execution_count": null,
   "id": "14b3bf6d",
   "metadata": {},
   "outputs": [],
   "source": [
    "# б.Какова вероятность, что перегорят ровно две?"
   ]
  },
  {
   "cell_type": "code",
   "execution_count": 9,
   "id": "6ce51a22",
   "metadata": {},
   "outputs": [
    {
     "name": "stdout",
     "output_type": "stream",
     "text": [
      "P =  0.2707\n"
     ]
    }
   ],
   "source": [
    "print(f'P = {poisson_distr(2,0.0004,5000): .4f}')"
   ]
  },
  {
   "cell_type": "code",
   "execution_count": null,
   "id": "152a6bb3",
   "metadata": {},
   "outputs": [],
   "source": []
  }
 ],
 "metadata": {
  "kernelspec": {
   "display_name": "Python 3 (ipykernel)",
   "language": "python",
   "name": "python3"
  },
  "language_info": {
   "codemirror_mode": {
    "name": "ipython",
    "version": 3
   },
   "file_extension": ".py",
   "mimetype": "text/x-python",
   "name": "python",
   "nbconvert_exporter": "python",
   "pygments_lexer": "ipython3",
   "version": "3.9.13"
  }
 },
 "nbformat": 4,
 "nbformat_minor": 5
}
